{
 "cells": [
  {
   "cell_type": "markdown",
   "metadata": {
    "id": "dw6V4qF8fbLX"
   },
   "source": [
    "<p align=\"center\">\n",
    "<b>Gen AI</b><br>\n",
    "\n",
    "</p>\n",
    "\n",
    "** **"
   ]
  },
  {
   "cell_type": "code",
   "execution_count": null,
   "metadata": {
    "colab": {
     "base_uri": "https://localhost:8080/",
     "height": 1926,
     "referenced_widgets": [
      "35d1e716f5364d5094913b3e460a7da6",
      "0601e69239df41c7bd7a3e5341410446",
      "c765ba3f28be4cdaa6399a3e8cd7ef1c",
      "3ffde60da64449949f0add2c073f3474",
      "e26eee2936b444e39bd9cb8b3f1ec6af",
      "66fa8682086a49eba56a94ead1b72508",
      "db4ca081b132437daae3e939c26d6d71",
      "3b9f17f314f441c6b2df8f495a3a716c",
      "4acb1b0aa4da4dab85adba907beabb84",
      "fe115ca072eb4993af83816df80f6a3e",
      "a14585ceae604e7bb018443f427010b1",
      "e218cd72ab7c4b3dbe6245457bfbd252",
      "af5574255f2f44dba38ad262091985c0",
      "c26f6bcaa4ad4f699e87a3a5ffe4d715",
      "28cb3fb7c3974899beaa2790a943bce4",
      "5fab8042d5f34def8d0f95185fbe67a1",
      "ad9eece971224b3284bcf11d3fa2d06d",
      "d3eea1a7f1ff4ced81f88934e7b406a3",
      "681f91358d6e42a8a05eb50275002578",
      "f5aee20b011b4e249d1393eb7c3a420d",
      "ee0a622a806f4a11b2dce4eff79d97ba",
      "424b63d56daa42c48003cc310b423364",
      "9dc3c6cbfc1b4676a440d0415982583c",
      "748d6ca8a95a4152b61d9e49904232fb",
      "e5d148735482462588ba2a8b94bc2b72",
      "094948b1a83a4e0d9631516cd1f165b4",
      "b1a10f73615942be9f35c40645acbccd",
      "59b26460b89f4dda80fc42fc9564c47b",
      "f115d2b83e494b34bffe8cb585c325dd",
      "1e0aff1fc33b4409b2165514c8770eb9",
      "0c98223d100c4947847cc220a4377ce4",
      "78a49390258a4f21992ee5f2d532fab4",
      "dc04bee44989474cb822db332cdca671",
      "2be9483517794a0b9f72b6de6a421329",
      "5582e84c29024bd99f0dffbe6758318d",
      "a6ad2bc78ce741d588b4ee8b4d95520f",
      "24a95662fc6740dd9fe54f35b32dfc3f",
      "d4934c8d0d8544039546df3a887d9951",
      "7a69536c56b44a00bf94f8926ffc4302",
      "00e3d50fd808416c831b37954b095304",
      "ecbbf7bff3744094ac74c978e8384d27",
      "16b9213fdf5c41e0857d505574da82eb",
      "c3439f2c363349bcb903c4688f61be26",
      "8731defd6c224fadb7f16c96c5c99ef3",
      "2249402154544284b9dff76e816d0c76",
      "d786fae8b5a44c0392f5405e8bf8e3d6",
      "e16305d8fcda413ebb4c221cce3d9699",
      "bc469fc931ad41dc9716768b7caba4aa",
      "1157b52a40194e928c8b2793656afc78",
      "0cb09120186c423f826ce6f7ef82f2d8",
      "632929e9ea6d41dcbb0bf68bcca2df6e",
      "b29240f2376e43159cec7d9ae437c020",
      "617e5060c4be4af4961c6e7b093c6091",
      "b3a9f5cc90a240e09ccca92807332f7c",
      "bc2977172a374b588a8286c6afea72fb",
      "942c8bad7a0a479caac89548407a4592",
      "481edb91b077481f91191f182e99929c",
      "6e052a234c6946d3b37c398071868aef",
      "21bf3e138f8a43228afe1a03190d0ab9",
      "8c4bd4fb26d9429da927375000c64194",
      "b168cf7f26e844fea2a34e5786267d3c",
      "ecc3cf2a49304432a96f83f373468267",
      "5e0761ebb5be4c98ad1d6f0123cfb4a1",
      "9c6aa2a4f49b4d4493c3f1896ca5a63b",
      "caba0880ccc748729b097a6d7336e402",
      "00de7bdc237a47f4a6435e84ea5de65b",
      "e5da1d3bfbcd414f8f9ee6f381ed8b18",
      "3a5bf45ffd1f4ec7b3d05cad3fe79eed",
      "36f451c3eb63460d92c569dba4fb8eb6",
      "d44725f96efe418bb0cbc3d6ef84fa90",
      "3b4645300ce54289801381d1cf34375b",
      "701a56ad4ef445629932f70b07babd0a",
      "26976e0f68464fd980b883af0e52f845",
      "c97d14a158fa4dbd9b27d458fd8b92a2",
      "1651955e539842ec9ba0774c32b6178e",
      "7ebbaa500e244da39ec26c5a87169200",
      "a35e413b240a479d83c0bfaf15b6e888",
      "054266d1b01d481399461016869265c5",
      "eeeab38285004fb480fc94c65f61c62c",
      "f40885bb3ac74b74b329abbc575128f1",
      "cfd0da1774264278b0709ec8c6290aae",
      "d47ae5e8671e4b348a2190e8e6fe924d",
      "2d780b3137a542b5b853476d025be478",
      "c746e13aacd24fdc8314bdc0c3f57d2b",
      "2249425b942b4ec48e717a4498b3bf13",
      "e28d532e5e7842269a64466b39c7cdd0",
      "75fcaf8b7db04182945f79bc39a7e365",
      "4e075f26777247c6a889cabc230bdffa",
      "0927ea0d092b48cc95ac8d8b41ce4a0c",
      "41cd6fd5c4c3415eb11b45ba2b28b74c",
      "42155b5c51f2417baa3eb5f7ee907b26",
      "516c40e46e67420e9e296232ff1ee1ef",
      "dcc9954807a3401d803483648baabe73",
      "bc6dfd25d8f447909cdb752f7028887c",
      "428e166c10d84ef4a6d84f3eda319b69",
      "228ac42db0ec44d9bb8af05348a33d2a",
      "94cf3803ea834006bd789d263fbc904b",
      "fee6160d1a8446be9997087b7558bfca",
      "f914e6b5eaf9446f95c97f4246bd68b7",
      "9283b12ae94d4f489e6835b7589c6979",
      "d72e1cb153d3467b805d8b606dd577bf",
      "ee8f31f750804217a8567cbf37b71eb4",
      "6b75aa4870e44da695d67cba719c8b26",
      "bae7350baf8e4de8834331eaee5a62e7",
      "cb18f165efb54af68162e49ed82a959f",
      "01b8a3d48f4840f489b3fb28616da78a",
      "86bf3e552a7a407fa0b2fecec821859c",
      "17433bbcbc944f11b90a993788e38423",
      "8a1b350d173a4bf3a0595302426f78eb",
      "73ab424d841349f4a3756c4612dc512d",
      "65b045e0ae8b49f8a71ca8c9adac054d",
      "718ef87a2d424dc18dd9bdb4f2dd0705",
      "589cd2df39d44d4d9037c7323e067f36",
      "ba1d0c545eb543c1aa8b773267fc26b1",
      "fed7193324c945bd9ff4fd3c33f5d013",
      "b1c8c01b9d884f5095b3d3fa0221c1bf",
      "bbb3056cb81a4fb095bd0e0b83e01f03",
      "8fac3036479c497ca497aa3848e062a0",
      "ad5e4951cb544cb185195b77538e8f01",
      "310d800ac3d145a79322f066b5980e59",
      "9c45dfa6c6ca4d6ba95f0c47d611a9bd",
      "13348cffcb4f45e7b0a4fc86a63a86b7",
      "89cfb2f9569348b5a62d52b2d5c7c9c9",
      "43e73e18d2fe4574b086e841c589474e",
      "bfd5b61933474f759474dac0fed167f4",
      "4d64b69859604b5caf387056fb393ce8",
      "f7ed0c99f43646129c77d5a6be737704",
      "09133990630d4fb5a934821f2843c152",
      "cbc3a037457b4c1b8f001ecde425ff00",
      "651f92ff26174854beba3fd6d19d9ba9",
      "7ed2c00ff263480c99e45def2586d08c",
      "1639ee6e3e20407688590b1ce26053a8",
      "e83be96f21824d53938fa502d55e0213",
      "4d59e43ba91b4d39a30522009f5b6aa7",
      "f4c37b970e0b437aa1cb6e184b055c85",
      "2336e4b02d7043cf8256836115e0cd3e",
      "7ef2a7bd40c8431ea0759f83238a4536",
      "e65f0091045b4188899acb704e8e03c5",
      "002818e6b2014055a422c5ce1910c2fb",
      "86e54d60878d4432bed0d8a870ee6e01",
      "ef3be67048794489b33b5b52fc8f98ad",
      "11c2b23f2c144790a7b6b1271db00785",
      "885baa94c41e4582af0e7cf0c0fd06c9",
      "3b43173c48e441569798fc8a2d2063c3",
      "0c3594cef58f4289948aeccd040e1c79",
      "fffec21d3dc74f7caeee15ce1aaa1621",
      "13106b47ed434ec585c3989e0ddf3ff3",
      "7f31fcfba6e74aa184c145f517284037",
      "d6711f1004a141188d68220930c40605",
      "8f28bef4807a43d780aab811614baa40",
      "d904c8600b9d45fea4a28c78ae63a0d3",
      "e6fcfda65db1494ba6ea21b760365f30",
      "19fa725bd6b04a4999f5bab88f054b5a",
      "d9a7f90b8d9c4d93beb3101747465433",
      "6bec49dde9384ef7afa2297b09e64ff4",
      "9cb03be4381e47d2900b2d1af9bc9c79",
      "965a5b8e601449958b7f1f1ea18b24ac",
      "ee6d55d2670043088a4670c4c663aae4",
      "289904c0de4c454e84a00d5375a187ba",
      "37a342558a8a4223b1aee50e29807bdc",
      "47885061995147fa9f689c13caa6d2ca",
      "a68000c29cff4adaa41b8afaa1657c9d",
      "f5f269b2d54248b2a82812766b02edaa",
      "7b275b7a19de442f8e1d6f14aba4f24d",
      "60a28ca2605b4153beaa79a0dd44c525",
      "764eb583e129447f945c5891f9e1e881",
      "8e9a131a85c14ac09218bb605fa5a451",
      "df71fbf117cd4390934173be7795de0e",
      "3c06a1300fcf4373a27b5d1547fc39ba",
      "84e6a1e0d4f446639f49d47566c3ca7c",
      "b53af6ab362b498aaeefced50d071275",
      "91d203267cab4fa5a71dc9442fb050b9",
      "1dbad2e99deb4a27ab21ac23edc0b73d",
      "92e78ceef3a64730a22687b4b2e3dd92",
      "c1b9035523994e20b433652a4f1fb6e4",
      "f650c362070a476ca4ad9e0085c3e682",
      "92e00c2ec871494c8ddd1e6f2e423356",
      "fc8c6cf6f26542259a5e6986c4d98540",
      "c18e684dba454076a1bc4d374e201d13",
      "c6b308ee6bcd47b9be3e8c41299ebbd3",
      "70fff097ce2047a7a4ce36eaa83d5fd4",
      "2e589be607e54c4a90d226da4088535a",
      "62ebcffccdfd466e82204f34fdf400b1",
      "dde517cf5a45436a959c4ebd3f67b367",
      "51cafedf798640fdb242fea08be334e9",
      "d14df4a4639d471781f29d615314bc3d",
      "645b0cbb87d346f0873f325913ec6cc3",
      "7b9f155a2fea4a5e8f1d9bc7970e398a",
      "ac491fd5826f47e3b0205725a3598540",
      "dce546ce494e4701b9e5d4053db38d47",
      "ae788eed600d4f5ba2a9c0937dfa3bbb",
      "5e15b79a58de4c71b33dc28d7f9a1402",
      "aaf997bae9e844299c095389f62483f6",
      "51c75f944a334bd887312d216b305301",
      "c145a91627cb4845849567e54ce6a0c9",
      "f7480926dd134b24ad1c6bc812f96052",
      "a7ea99bcfcc94153bf35a1b62e838ee1",
      "ade03cc4cdc24af0a1172b75dbdba4a3",
      "b0e7c65dd9754499b4eb550ac7b2ffc8",
      "58acdd4cbd9a48df9c0f73b7343a88b2",
      "5108871fcc92465285a223785a673f9e",
      "0ec501ab95564e138b80d4a7db8b72dd",
      "c19b49c1b43a4fa6b089aef633dc86b0",
      "b21d11d4671a46bf9bb592113fc791c9",
      "da2c9c35fd0546809061e73e5a31e8c1",
      "cf0ab75a8f3d43e983cd86da306ccce6",
      "6bdcd05bfc7a466fb77148bbe641cc55",
      "b1ec086e4cac40c88eac8923d668d264",
      "75452e3e2e1f4606b9c2f9a6c6c40b2d",
      "1c2b11cb336349f0aaf0b40fb513a197",
      "69a7e0a192b7482f85e4120fd9ec1e1f",
      "cba38bd314cd4ced8f833a5009ca2bd3",
      "8acb27fb1bc6437c8893b42f977afda0",
      "3fca4df89efb45ccae7dbb0a27ecd33c",
      "066c36a010494a0fb0522acea94cd3a5",
      "243eff3dd8274b0b960474d209cefef9",
      "b55ba59b239e45698b963277f9d994d9",
      "2f50f029061e4c03b02cef3a38282944",
      "2185a01191c3422a99747a484ec51ed9",
      "7e82aa43f3684661a8f82b7e1a531392",
      "4a9abd15c1e044928e1bdb80817507c6",
      "35f911c903314a69af7ba0413de74bd8",
      "b5c77b0c17e445ed83d07b9ab75e1ef3",
      "94f26305a4c845ce86428d324fcebcbd",
      "aaacafed326e468e8484cdbc7c4bfd48",
      "7c75cced6d1549e8b751422b9cb3c1ed",
      "a278069e983749a7b95c3a9c21981e61",
      "1f0c9d4dcd294ba49f31816b992691dc",
      "b6bc87fe6ba849f4a395ca9f7fe46b5e",
      "8ef2a02ef42e4b408d8ac2e54e64c12a",
      "e609aaa304d448d2a91fc082cb79f7a6",
      "0eb148e7bc754796994786bef919dd8e",
      "fdab695028b54710ad603f123042b2a0",
      "6e3bc25e770f41b3bac4dc41681e1fb3",
      "83f3c6d928b444ee95bd71f9a8b5729a",
      "aa7e7fdb94da4314b3cdb2c266d03f8d",
      "55c1e6949f4d4877bf19884e00dead53",
      "30996fc2d87c49ce8397a6ca7d901021",
      "84a90e8eab714ce084d6b816354caedd",
      "d1aa6decfebb471da59cff42bee2c89e",
      "e5d899d65acc43d28a53749c424104f1",
      "909a44ebb3644ef2a6d00331fec4e9fa",
      "9c947ce7fc054ad0afe15f9381c08d9b",
      "f2f30938e72047d69546e3294a88328d",
      "b53504010df140d698699229dafc51c9",
      "3471d8c703a940f2b35558221e8aecdb",
      "8fe9c3d024084b71abee01e45d0e1309",
      "ccf0aae0a5864fb8b12d601a00e82678",
      "93490f36c0c54c5abe25b58b4e6675df",
      "4efa421563fe4efe8ee9b1753fac4029",
      "c9253633ec404703905ea8ae5ca6cc26",
      "b6af1a58db544b4792caa974092d1025",
      "f19597d3a0764669b855f8c69591b3c7",
      "b311730e0262402aad76a6eb150ab772",
      "fc939fae91ef4c3fb464eea19740c879",
      "257137c130ae4942881c811df6f1b4ff",
      "a37fbeb719bf4942b07f12c89b116bcb",
      "4ecc03d3f1d1408db966d5e84287a456",
      "62bef220d08641328f02941eb40fb7e4",
      "84ef0b848a8e41638e11223ae30c9004",
      "c20427a9182d47bd8b065c34ba1dcaff",
      "9e4ed13a38a14dabbde6bc5ac3c1fe28",
      "ed4993ce57b8439883ab8d62d9b8941f",
      "dc7d5eea22f5490c81140bf66c689983",
      "d097577ab6cc48008a4b88fcf720214a",
      "5e899ff717d044c6ac8e58426f614711",
      "38507e9583e84e1aa392e993c8db39fb",
      "10acf504975f4ad594a8a1dcd65450e7",
      "d47162188daf4299a2756a668c7de0d1",
      "ecdf5c98c0de436e9373806eebb295b0",
      "55bb1c97a8e44252a5c1e8844366fd12",
      "22f95a9381d6474ca6704bdd2f20daeb",
      "6c1fb42935e243619a0411e79d636ea0",
      "7744cd04fd434716adfef12d1dd84786",
      "baeccbc33c724c029a1f7df3d958e6f2",
      "804b97a096e44d19a5af898231f2c51b",
      "df65f5a63d5040a8a8b0c32940483566",
      "21894f364426444e8fb42248205617e9",
      "1902eba2694c4e97968bb29300fb1ab8",
      "a35d89e487c445f48ae1da201ef92a1b",
      "21df8d1b653841cb9e7f17da4bee8c0a",
      "732123e742714d639ed4211e35e9f5a3",
      "90baecdeef774268af0a65c1842ad697",
      "d0d02167520b488683e37e9a246ac7c5",
      "fb63da9b8fef4a439da8f115e90436a4",
      "b6e25e231f394477a9b484f031291120",
      "259cd20fc0eb445cbec1c1de5f49aa8b",
      "50e23e8886be4d7fa1fce8a235ce8c82",
      "621763126ff24dca92ed043076cd609b",
      "b8335825ad1b460f9599f38f378139ef",
      "4344abb34f6143e496723d6644416502",
      "ba9b37ef98064db3887f06b48d4829d6",
      "b101ead743284f538c25fdcdc571d436",
      "9165f5d09040498a84f16674d5bf0a09",
      "4da898d0b5d644958522b21e43caefa9",
      "76665a73a8684f35a16b9fc0c830e3c4",
      "8f0a3dc907b641d8b2385ad3f7e952b7",
      "63cd8599aa8e4dc8a8f6bfa1adbc48ea",
      "39ff2367bfb6448784ec58884cc0cab9",
      "d9a1453311b94a8fbd9efacff5221b3a",
      "9db3c28d7fc34687ab0717da1e823850",
      "c8545bf3265d4addb6422643d4e10229",
      "ebd86d69ac44410f84a88c5d020a90ac",
      "dbfe916b5e0c4c308aba7e898859ae48",
      "101dee78a1fa49e79eaa63f62d42284d",
      "d54ed6c92b9a4f33b91a6ac45e10127e",
      "19c1eec56e774a0aaef49148984b4f81",
      "c5d9f1bb0a4d43008e9fc3eb466b6e6a",
      "596de689453f49f2950003c7039290a9",
      "8eea76d9f6874c5bb31f76d62c1d89f5",
      "a8a17c14ee3b4b1db749e907296b806c",
      "4bd27f050b5942688847122375ef9073",
      "f415eaef32af466ead07fcf39fab7d5d",
      "d249ac65077348d7bf52ef94f5ff10a0",
      "c7537a4a54f749079798356a1f9e11b4",
      "155d1f792c8849cc9129fdf9391d982e",
      "df8ce2ef04544db5a8de6e9e2e6aa614",
      "25580e75cfca45b4867eb730cfd5d1cd",
      "ed70790bcd4d460496dea5f8f0052be4",
      "239b8dcc9a4f4d44a0bd42e40c68c155",
      "30971773f1e84f9ab862314709d4fcb9",
      "a9c4c209c8a247618e47eeec1ac711bf",
      "b910ec9d86fa47dc828a2e448a18fab1",
      "9121eea3a9d7419684d975235361b637",
      "fab660a4a43342ee809af810cc66020f",
      "7093004060054151ad75f18a1acaba75",
      "3cae7eb627fd444d9946a55db105df6b",
      "a777fc877571404fb0b4864e102443ab",
      "33571f258da2442a8a0c65af597ec09f",
      "b22e1a80bb9345b6b6132b419eeb30ec",
      "86bafcaefb7a401894068a1c83d57c25",
      "da0bc296c0f44c419b9f8c2297e0d24e",
      "c1bd1fe73a154d2bb334d70fb0c5f4a4",
      "b0b7ad72822e4919842355806ae7ff22",
      "b065882c6b744fce9a1cada79bac6655",
      "a007687808394b4f90f807481c42a20c",
      "f2f5b2fe4fd846a2adfca45c2efdc27c",
      "713b400479c24c5c98e62c8224ac6efb",
      "5b349abf7589497f946b9dadac02d1db",
      "5931576c9b6d46f6b7b26f3f1541e7bf",
      "35f7bf4352664c2b8f2be7a6412f2462",
      "e1b33e8bcf004990b225fd0fe75b1df9",
      "57ad710e3d4b4210ada060a5c035f08e",
      "889a0273a36340f588b1900affd8420c",
      "b3773a2e57974e13b6244b3ed259bd86",
      "621efc427b72451685caab978fc9e3ef",
      "f8285cef7766430a8fe345338da94219",
      "84ea615dfc08445b80ab77c20a731468",
      "d428fb6c8b2640bbb3d6eac80a84369f",
      "2099fb30ef1741c898efe0cbc4654397",
      "1934f2a968a54381b58434c250770601",
      "b51c46a080a74bcba57124af2de6352f",
      "a113f4c837a941d3b3b40f79144da5b7",
      "6f1aebe7fa3148c3b6bf6d492b164345",
      "04db77315a134d1b89930b2bb2f444b4",
      "e3046618b6f849efab95fc6827ba595d",
      "27a3f7b2a0c043808231718a13f58d37",
      "01e7c6a934e24197b5cb9fb4b419ff14",
      "6e41b3201a0a41f78ad0892aa542c83e",
      "44a6c3703a7141bdb61ab8451f2011c3",
      "fae93e8e0c3f48dcbf35292966fcaec7",
      "46477b04de6243249f5383c7454e81f0",
      "4d9ec5128d634ca18267dcf56cdf27b1"
     ]
    },
    "executionInfo": {
     "elapsed": 1606527,
     "status": "ok",
     "timestamp": 1757823288249,
     "user": {
      "displayName": "Harish V",
      "userId": "09692693263923262974"
     },
     "user_tz": -330
    },
    "id": "9bhuj1C4VJB8",
    "outputId": "fbd50c61-84fa-43ce-fb98-b8810b89377b"
   },
   "outputs": [
    {
     "name": "stdout",
     "output_type": "stream",
     "text": [
      "Mounted at /content/drive\n",
      "\n",
      "Loading model: damo-vilab/text-to-video-ms-1.7b\n"
     ]
    },
    {
     "name": "stderr",
     "output_type": "stream",
     "text": [
      "/usr/local/lib/python3.12/dist-packages/huggingface_hub/utils/_auth.py:94: UserWarning: \n",
      "The secret `HF_TOKEN` does not exist in your Colab secrets.\n",
      "To authenticate with the Hugging Face Hub, create a token in your settings tab (https://huggingface.co/settings/tokens), set it as secret in your Google Colab and restart your session.\n",
      "You will be able to reuse this secret in all of your notebooks.\n",
      "Please note that authentication is recommended but still optional to access public models or datasets.\n",
      "  warnings.warn(\n"
     ]
    },
    {
     "data": {
      "application/vnd.jupyter.widget-view+json": {
       "model_id": "35d1e716f5364d5094913b3e460a7da6",
       "version_major": 2,
       "version_minor": 0
      },
      "text/plain": [
       "model_index.json:   0%|          | 0.00/384 [00:00<?, ?B/s]"
      ]
     },
     "metadata": {},
     "output_type": "display_data"
    },
    {
     "data": {
      "application/vnd.jupyter.widget-view+json": {
       "model_id": "e218cd72ab7c4b3dbe6245457bfbd252",
       "version_major": 2,
       "version_minor": 0
      },
      "text/plain": [
       "Fetching 12 files:   0%|          | 0/12 [00:00<?, ?it/s]"
      ]
     },
     "metadata": {},
     "output_type": "display_data"
    },
    {
     "data": {
      "application/vnd.jupyter.widget-view+json": {
       "model_id": "9dc3c6cbfc1b4676a440d0415982583c",
       "version_major": 2,
       "version_minor": 0
      },
      "text/plain": [
       "merges.txt: 0.00B [00:00, ?B/s]"
      ]
     },
     "metadata": {},
     "output_type": "display_data"
    },
    {
     "data": {
      "application/vnd.jupyter.widget-view+json": {
       "model_id": "2be9483517794a0b9f72b6de6a421329",
       "version_major": 2,
       "version_minor": 0
      },
      "text/plain": [
       "config.json:   0%|          | 0.00/644 [00:00<?, ?B/s]"
      ]
     },
     "metadata": {},
     "output_type": "display_data"
    },
    {
     "data": {
      "application/vnd.jupyter.widget-view+json": {
       "model_id": "2249402154544284b9dff76e816d0c76",
       "version_major": 2,
       "version_minor": 0
      },
      "text/plain": [
       "tokenizer_config.json:   0%|          | 0.00/755 [00:00<?, ?B/s]"
      ]
     },
     "metadata": {},
     "output_type": "display_data"
    },
    {
     "data": {
      "application/vnd.jupyter.widget-view+json": {
       "model_id": "942c8bad7a0a479caac89548407a4592",
       "version_major": 2,
       "version_minor": 0
      },
      "text/plain": [
       "special_tokens_map.json:   0%|          | 0.00/460 [00:00<?, ?B/s]"
      ]
     },
     "metadata": {},
     "output_type": "display_data"
    },
    {
     "data": {
      "application/vnd.jupyter.widget-view+json": {
       "model_id": "e5da1d3bfbcd414f8f9ee6f381ed8b18",
       "version_major": 2,
       "version_minor": 0
      },
      "text/plain": [
       "scheduler_config.json:   0%|          | 0.00/465 [00:00<?, ?B/s]"
      ]
     },
     "metadata": {},
     "output_type": "display_data"
    },
    {
     "data": {
      "application/vnd.jupyter.widget-view+json": {
       "model_id": "054266d1b01d481399461016869265c5",
       "version_major": 2,
       "version_minor": 0
      },
      "text/plain": [
       "config.json:   0%|          | 0.00/787 [00:00<?, ?B/s]"
      ]
     },
     "metadata": {},
     "output_type": "display_data"
    },
    {
     "data": {
      "application/vnd.jupyter.widget-view+json": {
       "model_id": "0927ea0d092b48cc95ac8d8b41ce4a0c",
       "version_major": 2,
       "version_minor": 0
      },
      "text/plain": [
       "vocab.json: 0.00B [00:00, ?B/s]"
      ]
     },
     "metadata": {},
     "output_type": "display_data"
    },
    {
     "data": {
      "application/vnd.jupyter.widget-view+json": {
       "model_id": "9283b12ae94d4f489e6835b7589c6979",
       "version_major": 2,
       "version_minor": 0
      },
      "text/plain": [
       "text_encoder/model.fp16.safetensors:   0%|          | 0.00/681M [00:00<?, ?B/s]"
      ]
     },
     "metadata": {},
     "output_type": "display_data"
    },
    {
     "data": {
      "application/vnd.jupyter.widget-view+json": {
       "model_id": "65b045e0ae8b49f8a71ca8c9adac054d",
       "version_major": 2,
       "version_minor": 0
      },
      "text/plain": [
       "config.json:   0%|          | 0.00/657 [00:00<?, ?B/s]"
      ]
     },
     "metadata": {},
     "output_type": "display_data"
    },
    {
     "data": {
      "application/vnd.jupyter.widget-view+json": {
       "model_id": "13348cffcb4f45e7b0a4fc86a63a86b7",
       "version_major": 2,
       "version_minor": 0
      },
      "text/plain": [
       "unet/diffusion_pytorch_model.fp16.safete(…):   0%|          | 0.00/2.82G [00:00<?, ?B/s]"
      ]
     },
     "metadata": {},
     "output_type": "display_data"
    },
    {
     "data": {
      "application/vnd.jupyter.widget-view+json": {
       "model_id": "e83be96f21824d53938fa502d55e0213",
       "version_major": 2,
       "version_minor": 0
      },
      "text/plain": [
       "vae/diffusion_pytorch_model.fp16.safeten(…):   0%|          | 0.00/167M [00:00<?, ?B/s]"
      ]
     },
     "metadata": {},
     "output_type": "display_data"
    },
    {
     "data": {
      "application/vnd.jupyter.widget-view+json": {
       "model_id": "3b43173c48e441569798fc8a2d2063c3",
       "version_major": 2,
       "version_minor": 0
      },
      "text/plain": [
       "Loading pipeline components...:   0%|          | 0/5 [00:00<?, ?it/s]"
      ]
     },
     "metadata": {},
     "output_type": "display_data"
    },
    {
     "name": "stderr",
     "output_type": "stream",
     "text": [
      "`torch_dtype` is deprecated! Use `dtype` instead!\n",
      "The TextToVideoSDPipeline has been deprecated and will not receive bug fixes or feature updates after Diffusers version 0.33.1. \n"
     ]
    },
    {
     "name": "stdout",
     "output_type": "stream",
     "text": [
      "\n",
      "Generating video 1\n",
      "Base prompt: Early school kids playing football during break time\n",
      "Expanded prompt: Early school kids playing football during break time, dynamic camera movement, hyper-realistic style, from a drone camera perspective\n",
      "\n"
     ]
    },
    {
     "data": {
      "application/vnd.jupyter.widget-view+json": {
       "model_id": "6bec49dde9384ef7afa2297b09e64ff4",
       "version_major": 2,
       "version_minor": 0
      },
      "text/plain": [
       "  0%|          | 0/50 [00:00<?, ?it/s]"
      ]
     },
     "metadata": {},
     "output_type": "display_data"
    },
    {
     "name": "stdout",
     "output_type": "stream",
     "text": [
      "Saved video at: /content/drive/MyDrive/generated_videos/video_1.mp4\n",
      "\n",
      "Generating video 2\n",
      "Base prompt: A person scrolling on a phone in cafe with coffee\n",
      "Expanded prompt: A person scrolling on a phone in cafe with coffee, hyper-realistic style\n",
      "\n"
     ]
    },
    {
     "data": {
      "application/vnd.jupyter.widget-view+json": {
       "model_id": "764eb583e129447f945c5891f9e1e881",
       "version_major": 2,
       "version_minor": 0
      },
      "text/plain": [
       "  0%|          | 0/50 [00:00<?, ?it/s]"
      ]
     },
     "metadata": {},
     "output_type": "display_data"
    },
    {
     "name": "stdout",
     "output_type": "stream",
     "text": [
      "Saved video at: /content/drive/MyDrive/generated_videos/video_2.mp4\n",
      "\n",
      "Generating video 3\n",
      "Base prompt: Old lady watering garden grass in the courtyard\n",
      "Expanded prompt: Old lady watering garden grass in the courtyard, with dramatic lighting, soft natural colors\n",
      "\n"
     ]
    },
    {
     "data": {
      "application/vnd.jupyter.widget-view+json": {
       "model_id": "92e00c2ec871494c8ddd1e6f2e423356",
       "version_major": 2,
       "version_minor": 0
      },
      "text/plain": [
       "  0%|          | 0/50 [00:00<?, ?it/s]"
      ]
     },
     "metadata": {},
     "output_type": "display_data"
    },
    {
     "name": "stdout",
     "output_type": "stream",
     "text": [
      "Saved video at: /content/drive/MyDrive/generated_videos/video_3.mp4\n",
      "\n",
      "Loading model: cerspense/zeroscope_v2_576w\n"
     ]
    },
    {
     "data": {
      "application/vnd.jupyter.widget-view+json": {
       "model_id": "7b9f155a2fea4a5e8f1d9bc7970e398a",
       "version_major": 2,
       "version_minor": 0
      },
      "text/plain": [
       "model_index.json:   0%|          | 0.00/384 [00:00<?, ?B/s]"
      ]
     },
     "metadata": {},
     "output_type": "display_data"
    },
    {
     "data": {
      "application/vnd.jupyter.widget-view+json": {
       "model_id": "b0e7c65dd9754499b4eb550ac7b2ffc8",
       "version_major": 2,
       "version_minor": 0
      },
      "text/plain": [
       "Fetching 12 files:   0%|          | 0/12 [00:00<?, ?it/s]"
      ]
     },
     "metadata": {},
     "output_type": "display_data"
    },
    {
     "data": {
      "application/vnd.jupyter.widget-view+json": {
       "model_id": "1c2b11cb336349f0aaf0b40fb513a197",
       "version_major": 2,
       "version_minor": 0
      },
      "text/plain": [
       "config.json:   0%|          | 0.00/609 [00:00<?, ?B/s]"
      ]
     },
     "metadata": {},
     "output_type": "display_data"
    },
    {
     "data": {
      "application/vnd.jupyter.widget-view+json": {
       "model_id": "4a9abd15c1e044928e1bdb80817507c6",
       "version_major": 2,
       "version_minor": 0
      },
      "text/plain": [
       "scheduler_config.json:   0%|          | 0.00/465 [00:00<?, ?B/s]"
      ]
     },
     "metadata": {},
     "output_type": "display_data"
    },
    {
     "data": {
      "application/vnd.jupyter.widget-view+json": {
       "model_id": "0eb148e7bc754796994786bef919dd8e",
       "version_major": 2,
       "version_minor": 0
      },
      "text/plain": [
       "tokenizer_config.json:   0%|          | 0.00/737 [00:00<?, ?B/s]"
      ]
     },
     "metadata": {},
     "output_type": "display_data"
    },
    {
     "data": {
      "application/vnd.jupyter.widget-view+json": {
       "model_id": "9c947ce7fc054ad0afe15f9381c08d9b",
       "version_major": 2,
       "version_minor": 0
      },
      "text/plain": [
       "merges.txt: 0.00B [00:00, ?B/s]"
      ]
     },
     "metadata": {},
     "output_type": "display_data"
    },
    {
     "data": {
      "application/vnd.jupyter.widget-view+json": {
       "model_id": "b311730e0262402aad76a6eb150ab772",
       "version_major": 2,
       "version_minor": 0
      },
      "text/plain": [
       "text_encoder/pytorch_model.bin:   0%|          | 0.00/681M [00:00<?, ?B/s]"
      ]
     },
     "metadata": {},
     "output_type": "display_data"
    },
    {
     "data": {
      "application/vnd.jupyter.widget-view+json": {
       "model_id": "d097577ab6cc48008a4b88fcf720214a",
       "version_major": 2,
       "version_minor": 0
      },
      "text/plain": [
       "config.json:   0%|          | 0.00/727 [00:00<?, ?B/s]"
      ]
     },
     "metadata": {},
     "output_type": "display_data"
    },
    {
     "data": {
      "application/vnd.jupyter.widget-view+json": {
       "model_id": "804b97a096e44d19a5af898231f2c51b",
       "version_major": 2,
       "version_minor": 0
      },
      "text/plain": [
       "special_tokens_map.json:   0%|          | 0.00/460 [00:00<?, ?B/s]"
      ]
     },
     "metadata": {},
     "output_type": "display_data"
    },
    {
     "data": {
      "application/vnd.jupyter.widget-view+json": {
       "model_id": "259cd20fc0eb445cbec1c1de5f49aa8b",
       "version_major": 2,
       "version_minor": 0
      },
      "text/plain": [
       "vocab.json: 0.00B [00:00, ?B/s]"
      ]
     },
     "metadata": {},
     "output_type": "display_data"
    },
    {
     "data": {
      "application/vnd.jupyter.widget-view+json": {
       "model_id": "63cd8599aa8e4dc8a8f6bfa1adbc48ea",
       "version_major": 2,
       "version_minor": 0
      },
      "text/plain": [
       "config.json:   0%|          | 0.00/636 [00:00<?, ?B/s]"
      ]
     },
     "metadata": {},
     "output_type": "display_data"
    },
    {
     "data": {
      "application/vnd.jupyter.widget-view+json": {
       "model_id": "596de689453f49f2950003c7039290a9",
       "version_major": 2,
       "version_minor": 0
      },
      "text/plain": [
       "unet/diffusion_pytorch_model.bin:   0%|          | 0.00/2.82G [00:00<?, ?B/s]"
      ]
     },
     "metadata": {},
     "output_type": "display_data"
    },
    {
     "data": {
      "application/vnd.jupyter.widget-view+json": {
       "model_id": "239b8dcc9a4f4d44a0bd42e40c68c155",
       "version_major": 2,
       "version_minor": 0
      },
      "text/plain": [
       "vae/diffusion_pytorch_model.bin:   0%|          | 0.00/167M [00:00<?, ?B/s]"
      ]
     },
     "metadata": {},
     "output_type": "display_data"
    },
    {
     "data": {
      "application/vnd.jupyter.widget-view+json": {
       "model_id": "86bafcaefb7a401894068a1c83d57c25",
       "version_major": 2,
       "version_minor": 0
      },
      "text/plain": [
       "Loading pipeline components...:   0%|          | 0/5 [00:00<?, ?it/s]"
      ]
     },
     "metadata": {},
     "output_type": "display_data"
    },
    {
     "name": "stderr",
     "output_type": "stream",
     "text": [
      "An error occurred while trying to fetch /root/.cache/huggingface/hub/models--cerspense--zeroscope_v2_576w/snapshots/6963642a64dbefa93663d1ecebb4ceda2d9ecb28/unet: Error no file named diffusion_pytorch_model.safetensors found in directory /root/.cache/huggingface/hub/models--cerspense--zeroscope_v2_576w/snapshots/6963642a64dbefa93663d1ecebb4ceda2d9ecb28/unet.\n",
      "Defaulting to unsafe serialization. Pass `allow_pickle=False` to raise an error instead.\n",
      "An error occurred while trying to fetch /root/.cache/huggingface/hub/models--cerspense--zeroscope_v2_576w/snapshots/6963642a64dbefa93663d1ecebb4ceda2d9ecb28/vae: Error no file named diffusion_pytorch_model.safetensors found in directory /root/.cache/huggingface/hub/models--cerspense--zeroscope_v2_576w/snapshots/6963642a64dbefa93663d1ecebb4ceda2d9ecb28/vae.\n",
      "Defaulting to unsafe serialization. Pass `allow_pickle=False` to raise an error instead.\n",
      "The TextToVideoSDPipeline has been deprecated and will not receive bug fixes or feature updates after Diffusers version 0.33.1. \n"
     ]
    },
    {
     "name": "stdout",
     "output_type": "stream",
     "text": [
      "\n",
      "Generating video 4\n",
      "Base prompt: A playful puppy running across a grassy field, chasing butterflies.\n",
      "Expanded prompt: A playful puppy running across a grassy field, chasing butterflies., digital art style\n",
      "\n"
     ]
    },
    {
     "data": {
      "application/vnd.jupyter.widget-view+json": {
       "model_id": "e1b33e8bcf004990b225fd0fe75b1df9",
       "version_major": 2,
       "version_minor": 0
      },
      "text/plain": [
       "  0%|          | 0/50 [00:00<?, ?it/s]"
      ]
     },
     "metadata": {},
     "output_type": "display_data"
    },
    {
     "name": "stdout",
     "output_type": "stream",
     "text": [
      "Saved video at: /content/drive/MyDrive/generated_videos/video_4.mp4\n",
      "\n",
      "Generating video 5\n",
      "Base prompt: A 3D animation showing how the human heart pumps blood through the body.\n",
      "Expanded prompt: A 3D animation showing how the human heart pumps blood through the body., with dramatic lighting, soft natural colors, close-up view\n",
      "\n"
     ]
    },
    {
     "data": {
      "application/vnd.jupyter.widget-view+json": {
       "model_id": "a113f4c837a941d3b3b40f79144da5b7",
       "version_major": 2,
       "version_minor": 0
      },
      "text/plain": [
       "  0%|          | 0/50 [00:00<?, ?it/s]"
      ]
     },
     "metadata": {},
     "output_type": "display_data"
    },
    {
     "name": "stdout",
     "output_type": "stream",
     "text": [
      "Saved video at: /content/drive/MyDrive/generated_videos/video_5.mp4\n"
     ]
    }
   ],
   "source": [
    "import torch\n",
    "import numpy as np\n",
    "import cv2\n",
    "import os\n",
    "import random\n",
    "from diffusers import DiffusionPipeline, DPMSolverMultistepScheduler\n",
    "from google.colab import drive\n",
    "\n",
    "# Drive\n",
    "drive.mount('/content/drive')\n",
    "output_dir = \"/content/drive/MyDrive/generated_videos\"\n",
    "os.makedirs(output_dir, exist_ok=True)\n",
    "\n",
    "# Models used\n",
    "models = [\n",
    "    \"damo-vilab/text-to-video-ms-1.7b\",\n",
    "    \"cerspense/zeroscope_v2_576w\"\n",
    "]\n",
    "\n",
    "# Basic prompts\n",
    "prompts = [\n",
    "    \"Early school kids playing football during break time\",\n",
    "    \"A person scrolling on a phone in cafe with coffee\",\n",
    "    \"Old lady watering garden grass in the courtyard\",\n",
    "    \"A playful puppy running across a grassy field, chasing butterflies.\",\n",
    "    \"A 3D animation showing how the human heart pumps blood through the body.\"\n",
    "]\n",
    "\n",
    "# style modifiers\n",
    "style_modifiers = [\n",
    "    \"cinematic wide shot\",\n",
    "    \"close-up view\",\n",
    "    \"from a drone camera perspective\",\n",
    "    \"with dramatic lighting\",\n",
    "    \"in the morning sunlight\",\n",
    "    \"in a cozy environment\",\n",
    "    \"hyper-realistic style\",\n",
    "    \"soft natural colors\",\n",
    "    \"dynamic camera movement\",\n",
    "    \"digital art style\"\n",
    "]\n",
    "\n",
    "def expand_prompt(base_prompt):\n",
    "    extras = random.sample(style_modifiers, k=random.randint(1, 3))\n",
    "    return f\"{base_prompt}, \" + \", \".join(extras)\n",
    "\n",
    "# duration\n",
    "target_duration_sec = 10\n",
    "\n",
    "# Generate videos\n",
    "video_count = 0\n",
    "for model_index, model_id in enumerate(models):\n",
    "    print(f\"\\nLoading model: {model_id}\")\n",
    "\n",
    "    if \"zeroscope\" in model_id:\n",
    "        pipe = DiffusionPipeline.from_pretrained(model_id, torch_dtype=torch.float16)\n",
    "    else:\n",
    "        pipe = DiffusionPipeline.from_pretrained(model_id, torch_dtype=torch.float16, variant=\"fp16\")\n",
    "\n",
    "    pipe.scheduler = DPMSolverMultistepScheduler.from_config(pipe.scheduler.config)\n",
    "    pipe.enable_model_cpu_offload()\n",
    "\n",
    "    if model_index == 0:\n",
    "        selected_prompts = prompts[:3]\n",
    "    else:\n",
    "        selected_prompts = prompts[3:]\n",
    "\n",
    "    for prompt in selected_prompts:\n",
    "        video_count += 1\n",
    "        final_prompt = expand_prompt(prompt)\n",
    "\n",
    "        print(f\"\\nGenerating video {video_count}\")\n",
    "        print(f\"Base prompt: {prompt}\")\n",
    "        print(f\"Expanded prompt: {final_prompt}\\n\")\n",
    "\n",
    "        fps = random.randint(8, 12)\n",
    "        seed = random.randint(0, 999999)\n",
    "        generator = torch.manual_seed(seed)\n",
    "\n",
    "        target_frames = fps * target_duration_sec\n",
    "\n",
    "        result = pipe(\n",
    "            final_prompt,\n",
    "            num_inference_steps=50,\n",
    "            num_frames=target_frames,\n",
    "            generator=generator\n",
    "        )\n",
    "\n",
    "        video_frames_batches = result.frames\n",
    "        all_frames = [frame for batch in video_frames_batches for frame in batch]\n",
    "\n",
    "        corrected_frames = []\n",
    "        for frame in all_frames:\n",
    "            if isinstance(frame, torch.Tensor):\n",
    "                frame = frame.cpu().numpy()\n",
    "            if frame.ndim == 2:\n",
    "                frame = np.stack([frame]*3, axis=-1)\n",
    "            elif frame.ndim == 3 and frame.shape[2] == 1:\n",
    "                frame = np.concatenate([frame]*3, axis=2)\n",
    "            elif frame.ndim == 3 and frame.shape[2] in [3, 4]:\n",
    "                pass\n",
    "            else:\n",
    "                raise ValueError(f\"Unsupported frame shape: {frame.shape}\")\n",
    "            if frame.dtype != np.uint8:\n",
    "                frame = (frame * 255).clip(0, 255).astype(np.uint8)\n",
    "            corrected_frames.append(frame)\n",
    "\n",
    "        height, width, _ = corrected_frames[0].shape\n",
    "        video_filename = os.path.join(output_dir, f\"video_{video_count}.mp4\")\n",
    "\n",
    "        fourcc = cv2.VideoWriter_fourcc(*'mp4v')\n",
    "        video_writer = cv2.VideoWriter(video_filename, fourcc, fps, (width, height))\n",
    "\n",
    "        for frame in corrected_frames:\n",
    "            if frame.shape[2] == 4:\n",
    "                frame = frame[:, :, :3]\n",
    "            video_writer.write(frame)\n",
    "\n",
    "        video_writer.release()\n",
    "        print(f\"Saved video at: {video_filename}\")\n"
   ]
  },
  {
   "cell_type": "markdown",
   "metadata": {
    "id": "E01s6VLdau65"
   },
   "source": [
    "**Discussion:** For this task, I applied text-to-video generation using models like damo-vilab/text-to-video-ms-1.7b and zeroscope_v2_576w. I focused on aligning frame numbers with FPS to control video length. Testing variations in prompts and settings gave me more natural results.\n"
   ]
  }
 ],
 "metadata": {
  "accelerator": "GPU",
  "colab": {
   "authorship_tag": "ABX9TyPxldGonXL1fjMwGN08AqfR",
   "gpuType": "T4",
   "provenance": []
  },
  "kernelspec": {
   "display_name": "Python 3",
   "name": "python3"
  },
  "language_info": {
   "name": "python"
  }
 },
 "nbformat": 4,
 "nbformat_minor": 0
}
